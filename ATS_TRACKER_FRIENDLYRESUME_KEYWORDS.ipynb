{
  "nbformat": 4,
  "nbformat_minor": 0,
  "metadata": {
    "colab": {
      "name": "ATS_TRACKER_FRIENDLYRESUME_KEYWORDS.ipynb",
      "provenance": []
    },
    "kernelspec": {
      "name": "python3",
      "display_name": "Python 3"
    },
    "language_info": {
      "name": "python"
    }
  },
  "cells": [
    {
      "cell_type": "code",
      "execution_count": 1,
      "metadata": {
        "colab": {
          "base_uri": "https://localhost:8080/"
        },
        "id": "A4fCh7Y1Yqqj",
        "outputId": "b39392c4-cfb1-4715-b959-82adc2f40a00"
      },
      "outputs": [
        {
          "output_type": "stream",
          "name": "stdout",
          "text": [
            "Requirement already satisfied: requests in /usr/local/lib/python3.7/dist-packages (2.23.0)\n",
            "Requirement already satisfied: certifi>=2017.4.17 in /usr/local/lib/python3.7/dist-packages (from requests) (2021.10.8)\n",
            "Requirement already satisfied: urllib3!=1.25.0,!=1.25.1,<1.26,>=1.21.1 in /usr/local/lib/python3.7/dist-packages (from requests) (1.24.3)\n",
            "Requirement already satisfied: chardet<4,>=3.0.2 in /usr/local/lib/python3.7/dist-packages (from requests) (3.0.4)\n",
            "Requirement already satisfied: idna<3,>=2.5 in /usr/local/lib/python3.7/dist-packages (from requests) (2.10)\n",
            "Requirement already satisfied: BeautifulSoup4 in /usr/local/lib/python3.7/dist-packages (4.6.3)\n",
            "Requirement already satisfied: matplotlib in /usr/local/lib/python3.7/dist-packages (3.2.2)\n",
            "Requirement already satisfied: pyparsing!=2.0.4,!=2.1.2,!=2.1.6,>=2.0.1 in /usr/local/lib/python3.7/dist-packages (from matplotlib) (3.0.7)\n",
            "Requirement already satisfied: numpy>=1.11 in /usr/local/lib/python3.7/dist-packages (from matplotlib) (1.19.5)\n",
            "Requirement already satisfied: python-dateutil>=2.1 in /usr/local/lib/python3.7/dist-packages (from matplotlib) (2.8.2)\n",
            "Requirement already satisfied: cycler>=0.10 in /usr/local/lib/python3.7/dist-packages (from matplotlib) (0.11.0)\n",
            "Requirement already satisfied: kiwisolver>=1.0.1 in /usr/local/lib/python3.7/dist-packages (from matplotlib) (1.3.2)\n",
            "Requirement already satisfied: six>=1.5 in /usr/local/lib/python3.7/dist-packages (from python-dateutil>=2.1->matplotlib) (1.15.0)\n"
          ]
        }
      ],
      "source": [
        "!pip install requests\n",
        "!pip install BeautifulSoup4\n",
        "!pip install matplotlib"
      ]
    },
    {
      "cell_type": "code",
      "source": [
        "!pip install -U pip setuptools wheel\n",
        "!pip install -U spacy\n"
      ],
      "metadata": {
        "colab": {
          "base_uri": "https://localhost:8080/",
          "height": 1000
        },
        "id": "U7E_iQ6MZCYK",
        "outputId": "17ea428f-eaa8-4dd5-d40d-873f4d6d95e0"
      },
      "execution_count": 3,
      "outputs": [
        {
          "output_type": "stream",
          "name": "stdout",
          "text": [
            "Requirement already satisfied: pip in /usr/local/lib/python3.7/dist-packages (21.1.3)\n",
            "Collecting pip\n",
            "  Downloading pip-22.0.2-py3-none-any.whl (2.1 MB)\n",
            "\u001b[K     |████████████████████████████████| 2.1 MB 8.3 MB/s \n",
            "\u001b[?25hRequirement already satisfied: setuptools in /usr/local/lib/python3.7/dist-packages (57.4.0)\n",
            "Collecting setuptools\n",
            "  Downloading setuptools-60.6.0-py3-none-any.whl (953 kB)\n",
            "\u001b[K     |████████████████████████████████| 953 kB 61.5 MB/s \n",
            "\u001b[?25hRequirement already satisfied: wheel in /usr/local/lib/python3.7/dist-packages (0.37.1)\n",
            "Installing collected packages: setuptools, pip\n",
            "  Attempting uninstall: setuptools\n",
            "    Found existing installation: setuptools 57.4.0\n",
            "    Uninstalling setuptools-57.4.0:\n",
            "      Successfully uninstalled setuptools-57.4.0\n",
            "  Attempting uninstall: pip\n",
            "    Found existing installation: pip 21.1.3\n",
            "    Uninstalling pip-21.1.3:\n",
            "      Successfully uninstalled pip-21.1.3\n",
            "\u001b[31mERROR: pip's dependency resolver does not currently take into account all the packages that are installed. This behaviour is the source of the following dependency conflicts.\n",
            "datascience 0.10.6 requires folium==0.2.1, but you have folium 0.8.3 which is incompatible.\u001b[0m\n",
            "Successfully installed pip-22.0.2 setuptools-60.6.0\n"
          ]
        },
        {
          "output_type": "display_data",
          "data": {
            "application/vnd.colab-display-data+json": {
              "pip_warning": {
                "packages": [
                  "pkg_resources"
                ]
              }
            }
          },
          "metadata": {}
        },
        {
          "output_type": "stream",
          "name": "stdout",
          "text": [
            "Requirement already satisfied: spacy in /usr/local/lib/python3.7/dist-packages (2.2.4)\n",
            "Collecting spacy\n",
            "  Downloading spacy-3.2.1-cp37-cp37m-manylinux_2_17_x86_64.manylinux2014_x86_64.whl (6.0 MB)\n",
            "\u001b[2K     \u001b[90m━━━━━━━━━━━━━━━━━━━━━━━━━━━━━━━━━━━━━━━━\u001b[0m \u001b[32m6.0/6.0 MB\u001b[0m \u001b[31m56.1 MB/s\u001b[0m eta \u001b[36m0:00:00\u001b[0m\n",
            "\u001b[?25hCollecting langcodes<4.0.0,>=3.2.0\n",
            "  Downloading langcodes-3.3.0-py3-none-any.whl (181 kB)\n",
            "\u001b[2K     \u001b[90m━━━━━━━━━━━━━━━━━━━━━━━━━━━━━━━━━━━━━━\u001b[0m \u001b[32m181.6/181.6 KB\u001b[0m \u001b[31m19.0 MB/s\u001b[0m eta \u001b[36m0:00:00\u001b[0m\n",
            "\u001b[?25hCollecting thinc<8.1.0,>=8.0.12\n",
            "  Downloading thinc-8.0.13-cp37-cp37m-manylinux_2_17_x86_64.manylinux2014_x86_64.whl (628 kB)\n",
            "\u001b[2K     \u001b[90m━━━━━━━━━━━━━━━━━━━━━━━━━━━━━━━━━━━━━━\u001b[0m \u001b[32m628.2/628.2 KB\u001b[0m \u001b[31m42.2 MB/s\u001b[0m eta \u001b[36m0:00:00\u001b[0m\n",
            "\u001b[?25hRequirement already satisfied: cymem<2.1.0,>=2.0.2 in /usr/local/lib/python3.7/dist-packages (from spacy) (2.0.6)\n",
            "Collecting pathy>=0.3.5\n",
            "  Downloading pathy-0.6.1-py3-none-any.whl (42 kB)\n",
            "\u001b[2K     \u001b[90m━━━━━━━━━━━━━━━━━━━━━━━━━━━━━━━━━━━━━━━━\u001b[0m \u001b[32m42.8/42.8 KB\u001b[0m \u001b[31m4.6 MB/s\u001b[0m eta \u001b[36m0:00:00\u001b[0m\n",
            "\u001b[?25hRequirement already satisfied: jinja2 in /usr/local/lib/python3.7/dist-packages (from spacy) (2.11.3)\n",
            "Collecting spacy-legacy<3.1.0,>=3.0.8\n",
            "  Downloading spacy_legacy-3.0.8-py2.py3-none-any.whl (14 kB)\n",
            "Requirement already satisfied: blis<0.8.0,>=0.4.0 in /usr/local/lib/python3.7/dist-packages (from spacy) (0.4.1)\n",
            "Requirement already satisfied: wasabi<1.1.0,>=0.8.1 in /usr/local/lib/python3.7/dist-packages (from spacy) (0.9.0)\n",
            "Requirement already satisfied: packaging>=20.0 in /usr/local/lib/python3.7/dist-packages (from spacy) (21.3)\n",
            "Requirement already satisfied: requests<3.0.0,>=2.13.0 in /usr/local/lib/python3.7/dist-packages (from spacy) (2.23.0)\n",
            "Requirement already satisfied: tqdm<5.0.0,>=4.38.0 in /usr/local/lib/python3.7/dist-packages (from spacy) (4.62.3)\n",
            "Requirement already satisfied: typing-extensions<4.0.0.0,>=3.7.4 in /usr/local/lib/python3.7/dist-packages (from spacy) (3.10.0.2)\n",
            "Requirement already satisfied: murmurhash<1.1.0,>=0.28.0 in /usr/local/lib/python3.7/dist-packages (from spacy) (1.0.6)\n",
            "Requirement already satisfied: setuptools in /usr/local/lib/python3.7/dist-packages (from spacy) (60.6.0)\n",
            "Requirement already satisfied: numpy>=1.15.0 in /usr/local/lib/python3.7/dist-packages (from spacy) (1.19.5)\n",
            "Collecting pydantic!=1.8,!=1.8.1,<1.9.0,>=1.7.4\n",
            "  Downloading pydantic-1.8.2-cp37-cp37m-manylinux2014_x86_64.whl (10.1 MB)\n",
            "\u001b[2K     \u001b[90m━━━━━━━━━━━━━━━━━━━━━━━━━━━━━━━━━━━━━━━━\u001b[0m \u001b[32m10.1/10.1 MB\u001b[0m \u001b[31m73.8 MB/s\u001b[0m eta \u001b[36m0:00:00\u001b[0m\n",
            "\u001b[?25hRequirement already satisfied: preshed<3.1.0,>=3.0.2 in /usr/local/lib/python3.7/dist-packages (from spacy) (3.0.6)\n",
            "Collecting spacy-loggers<2.0.0,>=1.0.0\n",
            "  Downloading spacy_loggers-1.0.1-py3-none-any.whl (7.0 kB)\n",
            "Collecting catalogue<2.1.0,>=2.0.6\n",
            "  Downloading catalogue-2.0.6-py3-none-any.whl (17 kB)\n",
            "Collecting typer<0.5.0,>=0.3.0\n",
            "  Downloading typer-0.4.0-py3-none-any.whl (27 kB)\n",
            "Collecting srsly<3.0.0,>=2.4.1\n",
            "  Downloading srsly-2.4.2-cp37-cp37m-manylinux_2_17_x86_64.manylinux2014_x86_64.whl (451 kB)\n",
            "\u001b[2K     \u001b[90m━━━━━━━━━━━━━━━━━━━━━━━━━━━━━━━━━━━━━━\u001b[0m \u001b[32m452.0/452.0 KB\u001b[0m \u001b[31m20.8 MB/s\u001b[0m eta \u001b[36m0:00:00\u001b[0m\n",
            "\u001b[?25hRequirement already satisfied: zipp>=0.5 in /usr/local/lib/python3.7/dist-packages (from catalogue<2.1.0,>=2.0.6->spacy) (3.7.0)\n",
            "Requirement already satisfied: pyparsing!=3.0.5,>=2.0.2 in /usr/local/lib/python3.7/dist-packages (from packaging>=20.0->spacy) (3.0.7)\n",
            "Requirement already satisfied: smart-open<6.0.0,>=5.0.0 in /usr/local/lib/python3.7/dist-packages (from pathy>=0.3.5->spacy) (5.2.1)\n",
            "Requirement already satisfied: urllib3!=1.25.0,!=1.25.1,<1.26,>=1.21.1 in /usr/local/lib/python3.7/dist-packages (from requests<3.0.0,>=2.13.0->spacy) (1.24.3)\n",
            "Requirement already satisfied: chardet<4,>=3.0.2 in /usr/local/lib/python3.7/dist-packages (from requests<3.0.0,>=2.13.0->spacy) (3.0.4)\n",
            "Requirement already satisfied: idna<3,>=2.5 in /usr/local/lib/python3.7/dist-packages (from requests<3.0.0,>=2.13.0->spacy) (2.10)\n",
            "Requirement already satisfied: certifi>=2017.4.17 in /usr/local/lib/python3.7/dist-packages (from requests<3.0.0,>=2.13.0->spacy) (2021.10.8)\n",
            "Requirement already satisfied: click<9.0.0,>=7.1.1 in /usr/local/lib/python3.7/dist-packages (from typer<0.5.0,>=0.3.0->spacy) (7.1.2)\n",
            "Requirement already satisfied: MarkupSafe>=0.23 in /usr/local/lib/python3.7/dist-packages (from jinja2->spacy) (2.0.1)\n",
            "Installing collected packages: typer, spacy-loggers, spacy-legacy, pydantic, langcodes, catalogue, srsly, pathy, thinc, spacy\n",
            "  Attempting uninstall: catalogue\n",
            "    Found existing installation: catalogue 1.0.0\n",
            "    Uninstalling catalogue-1.0.0:\n",
            "      Successfully uninstalled catalogue-1.0.0\n",
            "  Attempting uninstall: srsly\n",
            "    Found existing installation: srsly 1.0.5\n",
            "    Uninstalling srsly-1.0.5:\n",
            "      Successfully uninstalled srsly-1.0.5\n",
            "  Attempting uninstall: thinc\n",
            "    Found existing installation: thinc 7.4.0\n",
            "    Uninstalling thinc-7.4.0:\n",
            "      Successfully uninstalled thinc-7.4.0\n",
            "  Attempting uninstall: spacy\n",
            "    Found existing installation: spacy 2.2.4\n",
            "    Uninstalling spacy-2.2.4:\n",
            "      Successfully uninstalled spacy-2.2.4\n",
            "Successfully installed catalogue-2.0.6 langcodes-3.3.0 pathy-0.6.1 pydantic-1.8.2 spacy-3.2.1 spacy-legacy-3.0.8 spacy-loggers-1.0.1 srsly-2.4.2 thinc-8.0.13 typer-0.4.0\n",
            "\u001b[33mWARNING: Running pip as the 'root' user can result in broken permissions and conflicting behaviour with the system package manager. It is recommended to use a virtual environment instead: https://pip.pypa.io/warnings/venv\u001b[0m\u001b[33m\n",
            "\u001b[0m"
          ]
        }
      ]
    },
    {
      "cell_type": "code",
      "source": [
        "from collections import Counter\n",
        "import requests\n",
        "import spacy\n",
        "from bs4 import BeautifulSoup\n",
        "import matplotlib.pyplot as plt"
      ],
      "metadata": {
        "id": "JyF5EO0vZWRR"
      },
      "execution_count": 4,
      "outputs": []
    },
    {
      "cell_type": "code",
      "source": [
        "url = \"https://www.amazon.jobs/en/jobs/1665231/programmer-analyst\"\n",
        "page = requests.get(url)\n",
        "html = page.text"
      ],
      "metadata": {
        "id": "Em8ucyeSZhn_"
      },
      "execution_count": 7,
      "outputs": []
    },
    {
      "cell_type": "code",
      "source": [
        "html"
      ],
      "metadata": {
        "colab": {
          "base_uri": "https://localhost:8080/",
          "height": 122
        },
        "id": "wiQ7rmWrcU4B",
        "outputId": "81b31fac-f9a9-47e7-e8b5-6b64ba48f549"
      },
      "execution_count": 8,
      "outputs": [
        {
          "output_type": "execute_result",
          "data": {
            "application/vnd.google.colaboratory.intrinsic+json": {
              "type": "string"
            },
            "text/plain": [
              "'<!DOCTYPE html><html lang=\"en\" prefix=\"og: http://ogp.me/ns#\"><head><script src=\"//assets.adobedtm.com/launch-ENb97d7f9d2d4b4720ac9782a711994995.min.js\" async=\"async\"></script><meta name=\"viewport\" content=\"width=device-width, initial-scale=1.0\" /><meta name=\"google-site-verification\" content=\"Uw9ZdVAiI0c9UezDVq7iSK0t_nHm3ep2dNvLERS-cwU\" /><meta http-equiv=\"X-UA-Compatible\" content=\"IE=edge\" /><meta property=\"og:locale\" content=\"en_US\" /><meta property=\"og:site_name\" content=\"amazon.jobs\" /><meta property=\"og:url\" content=\"https://www.amazon.jobs/en/jobs/1665231/programmer-analyst\" /><meta name=\"twitter:card\" content=\"summary_large_image\" /><meta property=\"og:title\" content=\"Programmer Analyst\" /><meta property=\"og:description\" content=\"As a Programmer Analyst Intern at Amazon, you will work on large scale and highly available applications or tools. You will work with business and operations teams directly to enable new programs and expansion through your unique technology solutions and software programming skills. You will develop, perform service level integrations, support architectural migrations, troubleshoot, evaluate, and modify internal tools and service level applications. Alongside, you will identify bottlenecks in the current processes and automate manual configuration tasks. Each Programmer Analyst Intern will have an assigned technical mentor to help with onboarding, as well as 1:1 guidance from their manager, and will work closely with other engineers.As a Programmer Analyst Intern, you will:· Work with your manager and team to create milestones and deliverables.· Participate in daily scrums and reviews with development teams.· Support in platform migrations and configuration, modify internal tools or service level applications and debug or troubleshoot system problems.· Write code and unit tests and integrate code with other software components.· Act as a liaison between business and technical stakeholders in order to elicit, analyse, communicate, and validate requirements for changes to software applications or tools to optimally support changing business processes and policies.· Utilize Amazon engineering tools, processes and technologies including AWS S3, DynamoDB, EC2 etc.Job Location: Hyderabad, TS and Bangalore, KA\" /><meta property=\"og:image\" content=\"https://static.amazon.jobs/global_images/2/images/Jobs_thumbnailV2.jpg?1554491962\" /><meta id=\"test-image\" data-src=\"https://static.amazon.jobs/global_images/7/images/s3-connection-test-image.jpg?1475521122\" /><script>var ue_t0=window.ue_t0||+new Date();\\n\\n(function(f){var c=f;var a=c.ue||{};a.main_scope=\"mainscopecsm\";a.q=[];a.t0=c.ue_t0||+new Date();a.d=g;function g(h){return +new Date()-(h?0:a.t0)}function e(h){return function(){a.q.push({n:h,a:arguments,t:a.d()})}}function b(m,l,h,j,i){var k={m:m,f:l,l:h,c:\"\"+j,err:i,fromOnError:1,args:arguments};c.ueLogError(k);return false}b.skipTrace=1;f.onerror=b;function d(){c.uex(\"ld\")}if(f.addEventListener){f.addEventListener(\"load\",d,false)}else{if(f.attachEvent){f.attachEvent(\"onload\",d)}}a.tag=e(\"tag\");a.log=e(\"log\");a.reset=e(\"rst\");c.ue_csm=c;c.ue=a;c.ueLogError=e(\"err\");c.ues=e(\"ues\");c.uet=e(\"uet\");c.uex=e(\"uex\");c.uet(\"ue\")})(window);(function(e,d){var a=e.ue||{};function c(f){if(!f){return}var g=d.head||d.getElementsByTagName(\"head\")[0]||d.documentElement,h=d.createElement(\"script\");h.async=\"async\";h.src=f;g.insertBefore(h,g.firstChild)}function b(){var k=e.ue_cdn||\"z-ecx.images-amazon.com\",g=e.ue_cdns||\"images-na.ssl-images-amazon.com\",i=\"/images/G/01/csminstrumentation/\",j=e.ue_file||\"ue-full-7d5287a58adf99625409cd082b5b91dd._V1_.js\",f,h;if(j.indexOf(\"NSTRUMENTATION_FIL\")>=0){return}if(\"ue_https\" in e){f=e.ue_https}else{f=e.location&&e.location.protocol==\"https:\"?1:0}h=f?\"https://\":\"http://\";h+=f?g:k;h+=i;h+=j;c(h)}if(!e.ue_inline){if(a.loadUEFull){a.loadUEFull()}else{b()}}a.uels=c;e.ue=a})(window,document);\\n</script><link rel=\"shortcut icon\" type=\"image/x-icon\" href=\"//static.amazon.jobs/assets/favicon-933ee4605ae64f3181e0fcd88f9205be7b5f8a15643c342e53a9f03bb673732c.ico\" /><title>Programmer Analyst  - Job ID: 1665231 | Amazon.jobs</title><meta name=\"csrf-param\" content=\"authenticity_token\" />\\n<meta name=\"csrf-token\" content=\"X828X2VPI7aRX93MmY5BlMhaAZlXLcMfDPuv38fG41gc2c+lTh8Po3xqXlc1Rqedb0TsKCqM8TrulHZCv2171w==\" /><script>var CXT = CXT || {};\\nCXT.WEBSITE_FEATURES = {\"maintenance_banner\":{\"value\":false,\"is_active\":false,\"is_overridden\":true,\"default_value\":false},\"university_portal\":{\"value\":true,\"is_active\":true,\"is_overridden\":true,\"default_value\":false},\"hvh_homepage_banner\":{\"value\":true,\"is_active\":true,\"is_overridden\":true,\"default_value\":false},\"content_page_hvh_banner\":{\"value\":false,\"is_active\":false,\"is_overridden\":true,\"default_value\":false},\"university_recruiting_banner\":{\"value\":true,\"is_active\":true,\"is_overridden\":true,\"default_value\":false},\"survey_banner\":{\"value\":false,\"is_active\":false,\"is_overridden\":true,\"default_value\":false},\"keyword_typeahead\":{\"value\":true,\"is_active\":true,\"is_overridden\":true,\"default_value\":false},\"hvh_source_exclude\":{\"value\":false,\"is_active\":false,\"is_overridden\":true,\"default_value\":true},\"email_notifications\":{\"value\":false,\"is_active\":false,\"is_overridden\":false,\"default_value\":false},\"adobe_launch\":{\"value\":true,\"is_active\":true,\"is_overridden\":true,\"default_value\":false},\"carnation_stripe\":{\"value\":false,\"is_active\":false,\"is_overridden\":true,\"default_value\":false},\"carnation_hero\":{\"value\":false,\"is_active\":false,\"is_overridden\":true,\"default_value\":false},\"carnation_job_detail\":{\"value\":false,\"is_active\":false,\"is_overridden\":true,\"default_value\":false},\"maintenance_mode\":{\"value\":false,\"is_active\":false,\"is_overridden\":true,\"default_value\":false},\"location_typeahead\":{\"value\":true,\"is_active\":true,\"is_overridden\":true,\"default_value\":false},\"track_user_actions\":{\"value\":false,\"is_active\":false,\"is_overridden\":true,\"default_value\":false},\"generic_session_banner\":{\"value\":true,\"is_active\":true,\"is_overridden\":true,\"default_value\":false},\"enable_job_recommendations\":{\"value\":true,\"is_active\":true,\"is_overridden\":false,\"default_value\":true},\"centralized_hiring\":{\"value\":true,\"is_active\":true,\"is_overridden\":true,\"default_value\":false},\"centralized_hiring_job_detail_page\":{\"value\":true,\"is_active\":true,\"is_overridden\":true,\"default_value\":false},\"centralized_hiring_search_page\":{\"value\":true,\"is_active\":true,\"is_overridden\":true,\"default_value\":false},\"centralized_hiring_timeline_v2\":{\"value\":false,\"is_active\":false,\"is_overridden\":true,\"default_value\":false},\"internal_off_network_access\":{\"value\":true,\"is_active\":true,\"is_overridden\":true,\"default_value\":false},\"lpsv2\":{\"value\":true,\"is_active\":true,\"is_overridden\":true,\"default_value\":false},\"external_link_on_404_error_page\":{\"value\":true,\"is_active\":true,\"is_overridden\":true,\"default_value\":false},\"request_informational\":{\"value\":true,\"is_active\":true,\"is_overridden\":true,\"default_value\":false},\"art_db_outage_maintenance\":{\"value\":false,\"is_active\":false,\"is_overridden\":true,\"default_value\":false},\"redirect_pioneer_to_home\":{\"value\":false,\"is_active\":false,\"is_overridden\":true,\"default_value\":false}};</script><link rel=\"stylesheet\" media=\"all\" href=\"//static.amazon.jobs/assets/application-2c528ee832a4885e275f930758c8888e508dd087aedb5e3e611b60e29ed6405f.css\" /><!--[if IE]><link rel=\"stylesheet\" media=\"all\" href=\"//static.amazon.jobs/assets/bootstrap-alpha5-1af4aa065b2c6a512b7e6cec4359c03f7c6870ad089cf5e06a9bcd67facf059c.css\" /><link rel=\"stylesheet\" media=\"all\" href=\"//static.amazon.jobs/assets/ie9-fix-7f7df4114c5b6e195b3a9946cc9cb62940769d6119cd137fb249ee88c1f3e706.css\" /><![endif]--><link rel=\"stylesheet\" media=\"all\" href=\"//static.amazon.jobs/assets/bundles/shared/shared-232c9d57ffa76f9dc5fb18e5b4298f0480dc46f0f3cb1caa4db8a69ebf8e741f.css\" /><script src=\"//static.amazon.jobs/assets/application-dc701dca99f9f2c7544fb9c0306965e983a9da7faf6c979145e721a7c292c737.js\" media=\"all\"></script><link rel=\"stylesheet\" media=\"all\" href=\"//static.amazon.jobs/assets/bundles/jobs/show-8787e65b44d40c3bf5446a7e5efb1628733ae25b11d3db5d76876ef474c33699.css\" /><script>I18n.defaultLocale = \"en\";\\nI18n.locale = \"en\";\\nI18n.fallbacks = true;\\n// Set the moment library locale to the currently selected Amazon.jobs locale\\nmoment.locale(I18n.locale);</script><script src=\"//static.amazon.jobs/assets/analytics-c889b86eef3b92b9774b19a178f59826fc1e0eaa77defbdea9228d8ea122dec0.js\" media=\"all\"></script><script>CXT.ANALYTICS.capturePageview(window.location.pathname + window.location.search);</script><script>// For more information: https://support.pendo.io/hc/en-us/articles/360022819711-Snippet-Install\\n(function (apiKey) {\\n    (function (p, e, n, d, o) {\\n        var v, w, x, y, z;\\n        o = p[d] = p[d] || {};\\n        o._q = [];\\n        v = [\\'initialize\\', \\'identify\\', \\'updateOptions\\', \\'pageLoad\\'];\\n        for (w = 0, x = v.length; w < x; ++w) (function (m) {\\n            o[m] = o[m] || function () {\\n                o._q[m === v[0] ? \\'unshift\\' : \\'push\\']([m].concat([].slice.call(arguments, 0)));\\n            };\\n        })(v[w]);\\n        y = e.createElement(n);\\n        y.async = !0;\\n        y.src = \\'https://cdn.pendo.io/agent/static/\\' + apiKey + \\'/pendo.js\\';\\n        z = e.getElementsByTagName(n)[0];\\n        z.parentNode.insertBefore(y, z);\\n    })(window, document, \\'script\\', \\'pendo\\');\\n\\n    pendo.initialize({\\n        visitor: {\\n            id: \"\"\\n        },\\n        account: {\\n        }\\n    });\\n})(\\'dc270841-233d-4f8a-6594-afa8f5dd1e2d\\');</script></head><body><a class=\"sr-only sr-only-focusable position-absolute\" href=\"#main-1643620946\" id=\"skip-to-main-content-link\">Skip to main content</a><div class=\"jobs-navbar\"><div aria-label=\"navigation sidebar menu\" class=\"sb-slidebar\" off-canvas=\"navbar-slider left overlay\" tabindex=\"0\"><div class=\"content\"><ul class=\"nav-list mt-3\" id=\"slidebar-navlist\"><li class=\"nav-item\" id=\"nav-item-find-jobs\"><div class=\"nav-link-wrapper\"><a href=\"/en\">Home</a></div></li><li class=\"nav-item\" id=\"nav-item-check-status\"><div class=\"nav-link-wrapper\"><a href=\"https://account.amazon.jobs/check_application_status\">Your job application</a></div></li><li class=\"nav-item\" id=\"nav-item-working\"><div class=\"nav-link-wrapper\"><a href=\"/en/landing_pages/working-at-amazon\">Amazon culture &amp; benefits</a></div></li><li class=\"nav-item\" id=\"nav-item-diversity\"><div class=\"nav-link-wrapper\"><a href=\"/en/diversity\">Diversity at Amazon</a></div></li><li class=\"nav-item\" id=\"nav-item-locations\"><div class=\"nav-link-wrapper\"><a href=\"/en/locations\">Locations</a></div></li><li class=\"nav-item\" id=\"nav-item-teams\"><div class=\"nav-link-wrapper\"><a href=\"/en/business_categories\">Teams</a></div></li><li class=\"nav-item\" id=\"nav-item-job-categories\"><div class=\"nav-link-wrapper\"><a href=\"/en/job_categories\">Job categories</a></div></li><li class=\"nav-item\" id=\"nav-item-resources\"><div class=\"nav-link-wrapper\"><a class=\"disabled icon dropdown\">Resources</a><ul class=\"p-0\"><li class=\"py-1 px-3\"><a href=\"/en/landing_pages/interviewing-at-amazon#onlineapp\">Interview tips</a></li><li class=\"py-1 px-3\"><a href=\"/en/disability/us\">Disability accommodations</a></li><li class=\"py-1 px-3\"><a href=\"https://blog.aboutamazon.com\">Amazon blog</a></li></ul></div></li><li class=\"nav-item\" id=\"nav-item-faq\"><div class=\"nav-link-wrapper\"><a href=\"/faqs\">FAQ</a></div></li></ul><a aria-label=\"close\" class=\"cross-icon js-toggle-left-navbar-slider float-right\" href=\"javascript:void(0)\" role=\"button\"><span aria-hidden=\"true\">&times;</span></a></div></div></div><div class=\"day-one\"><div id=\"main-content\"><div class=\"a2d1-navigation\"><div data-react-class=\"Navigation\" data-react-props=\"{&quot;rootPath&quot;:&quot;/en&quot;,&quot;relativeUrl&quot;:&quot;&quot;,&quot;stage&quot;:&quot;production&quot;,&quot;isArtDbOutageMaintenance&quot;:false,&quot;isInternalNetwork&quot;:false,&quot;displaySearch&quot;:true,&quot;keyword_typeahead&quot;:&quot;/en/keyword_typeahead&quot;,&quot;queryOptions&quot;:null,&quot;a2d1Links&quot;:{&quot;host&quot;:&quot;https://account.amazon.jobs/&quot;,&quot;check_application_status&quot;:&quot;https://account.amazon.jobs/check_application_status&quot;,&quot;job_refer&quot;:&quot;https://account.amazon.jobs/jobs/%{job_id}/refer&quot;,&quot;application_dashboard&quot;:&quot;https://account.amazon.jobs/candidate/dashboard/applications&quot;,&quot;referral_dashboard&quot;:&quot;https://account.amazon.jobs/candidate/dashboard/referrals&quot;,&quot;profile&quot;:&quot;https://account.amazon.jobs/candidate/dashboard/profile&quot;},&quot;populationFeatures&quot;:{&quot;logo_class_name&quot;:&quot;logo&quot;,&quot;show_check_app_status_link&quot;:true,&quot;show_applications_link&quot;:false,&quot;show_referrals_link&quot;:false,&quot;show_profile_link&quot;:false,&quot;show_culture_menu_link&quot;:true,&quot;show_diversity_link&quot;:true,&quot;show_location_link&quot;:true,&quot;show_resources_menu_links&quot;:true,&quot;faq_link&quot;:&quot;/faqs&quot;},&quot;locationSearch&quot;:true,&quot;internalAlias&quot;:&quot;&quot;,&quot;offNetworkUX&quot;:false,&quot;internalBadgePhotoUrl&quot;:&quot;&quot;,&quot;treatments&quot;:null}\"></div></div><div data-react-class=\"SearchModal\" data-react-props=\"{&quot;rootPath&quot;:&quot;/en&quot;,&quot;keyword_typeahead&quot;:&quot;/en/keyword_typeahead&quot;,&quot;locationSearch&quot;:true,&quot;logoClass&quot;:&quot;logo&quot;,&quot;treatments&quot;:null}\"></div><a id=\"main-1643620946\" tabindex=\"-1\"></a><div data-react-class=\"GenericSessionBanner\" data-react-props=\"{}\"></div><script>CXT.CLIENT_SIDE_METRICS.addUETag(\"jobShowPage\");</script><div id=\"job-detail\"><div class=\"apply-header\"><div class=\"header external\"><div class=\"container\"><div class=\"row\"><div class=\"info-wrapper col-12 col-md-7 col-xl-8\"><div class=\"info\"><h1 class=\"title\" title=\"Programmer Analyst \">Programmer Analyst </h1><div class=\"details-line\"><p class=\"meta\">Job ID: 1665231 | ADCI HYD 16 SEZ</p></div></div></div><div class=\"apply-wrapper col-12 col-md-5 col-xl-4 px-0 d-flex justify-content-center align-items-center justify-content-md-end\"><div class=\"apply\"><a id=\"apply-button\" class=\"btn btn-primary \" aria-label=\"Apply now for Programmer Analyst \" href=\"https://account.amazon.jobs/jobs/1665231/apply\">Apply now</a></div></div></div></div></div></div><script>CXT.CLIENT_SIDE_METRICS.addCriticalFeatureMarkerForWidget(\"jobShowApplyButton\")\\nCXT.CLIENT_SIDE_METRICS.addLoadMarkerForWidget(\"jobShowApplyButton\")\\nCXT.CLIENT_SIDE_METRICS.addBodyBeginMarkerForWidget(\"jobShowPageApplyButton\")\\n$(\\'#apply-button\\').click(function(){\\n  CXT.ANALYTICS.captureEvent({category: \\'Apply\\', action: \\'Click\\', label: \\'1665231\\',\\n      directCallIdentifier: \\'applicationStart\\', \\n      jobDetails: {id: \\'1665231\\', title: \\'Programmer Analyst \\', category: \\'Software Development\\', division: \\'studentprograms\\'}});\\n});</script><div class=\"container\" id=\"job-detail-body\"><div class=\"row\"><script></script><div class=\"col-12 col-md-7 col-lg-8 col-xl-9\"><div class=\"content\"><div class=\"section description\"></div><div class=\"section\"><h2>DESCRIPTION</h2><p>As a Programmer Analyst Intern at Amazon, you will work on large scale and highly available applications or tools. You will work with business and operations teams directly to enable new programs and expansion through your unique technology solutions and software programming skills. You will develop, perform service level integrations, support architectural migrations, troubleshoot, evaluate, and modify internal tools and service level applications. Alongside, you will identify bottlenecks in the current processes and automate manual configuration tasks. Each Programmer Analyst Intern will have an assigned technical mentor to help with onboarding, as well as 1:1 guidance from their manager, and will work closely with other engineers.<br/><br/>As a Programmer Analyst Intern, you will:<br/>· Work with your manager and team to create milestones and deliverables.<br/>· Participate in daily scrums and reviews with development teams.<br/>· Support in platform migrations and configuration, modify internal tools or service level applications and debug or troubleshoot system problems.<br/>· Write code and unit tests and integrate code with other software components.<br/>· Act as a liaison between business and technical stakeholders in order to elicit, analyse, communicate, and validate requirements for changes to software applications or tools to optimally support changing business processes and policies.<br/>· Utilize Amazon engineering tools, processes and technologies including AWS S3, DynamoDB, EC2 etc.<br/><br/>Job Location: Hyderabad, TS and Bangalore, KA<br/><br/></p></div><div class=\"section\"><h2>BASIC QUALIFICATIONS</h2><p>· Currently working towards a Bachelor degree or higher in Computer Science, Engineering or equivalent. Majorly focusing on CS Fundamentals – Data Structures, Algo, Problem Solving, and Coding.<br/>· Experience building software applications through internships, course projects, hackathons or personal projects.<br/>· Ability to write clean code for basic data structures problems and algorithms in any one programming or scripting language.<br/>· Proficient in at least one programming language Java (preferred), C++ ,or C# (or) scripting language such as SQL, Perl, Python, XML, or Ruby.<br/>· Ability to read and interpret complex code, debug and troubleshoot application level issues (or) issues with internal tools with minimal guidance.<br/>· Ability to recognize and adopt best practices in software engineering: design, testing, version control, documentation, build, deployment, and operations.<br/></p></div><div class=\"section\"><h2>PREFERRED QUALIFICATIONS</h2><p>· Exposure to any of the following concepts: Web Services and other Web Technologies, schedulers, workflows, state machines, multi-threading and networking protocols.<br/>· Exposure to AWS technologies such as AWS S3, DynamoDB etc.<br/>· Ability to come up with simple solutions without over-engineering.<br/>· Ability to take initiative and produce results.<br/>· Effective verbal and written communication skills.<br/></p></div></div></div><script>CXT.CLIENT_SIDE_METRICS.addCriticalFeatureMarker()</script><div class=\"col-12 col-md-5 col-lg-4 col-xl-3\"><div class=\"sidebar\"><div class=\"row\"><div class=\"col-12\"><h2 class=\"job-details-title\">Job details</h2></div><div class=\"associations col-12\"><div class=\"association-wrapper\"><div class=\"association location-icon\"><div class=\"association-content\"><a aria-label=\"Location Hyderabad, India\" target=\"_blank\" href=\"/en/locations/hyderabad-india\">Hyderabad, India</a>; <a aria-label=\"Location India, India\" target=\"_blank\" href=\"/en/locations/PE%20Hubs%20-%20India\">India, India</a></div></div></div><div class=\"association-wrapper\"><div class=\"association team-icon col-12\"><div class=\"association-content\"><a aria-label=\"Team Internships for students\" target=\"_blank\" href=\"/en/teams/internships-for-students\">Internships for students</a></div></div></div><div class=\"association-wrapper\"><div class=\"association job-category-icon col-12\"><div class=\"association-content\"><a aria-label=\"Job category Software Development\" target=\"_blank\" href=\"/en/job_categories/software-development\">Software Development</a></div></div></div></div></div><div class=\"row\"><div class=\"social-media col-12\"><div class=\"row\"><div class=\"col-12\"><h2 class=\"share-text\">Share this job</h2></div></div><div class=\"row\"><div class=\"buttons col-12\"><a class=\"cxt-icon-facebook button\" target=\"_blank\" id=\"facebook-link-job-detail\" aria-label=\"Share with facebook\" href=\"https://www.facebook.com/sharer/sharer.php?u=https%3A%2F%2Fwww.amazon.jobs%2Fen%2Fjobs%2F1665231%2Fprogrammer-analyst\"></a><a class=\"cxt-icon-linkedin button\" target=\"_blank\" id=\"linkedin-link-job-detail\" aria-label=\"Share with linkedin\" href=\"https://www.linkedin.com/shareArticle?mini=true&amp;url=https%3A%2F%2Fwww.amazon.jobs%2Fen%2Fjobs%2F1665231%2Fprogrammer-analyst&amp;title=Programmer%20Analyst%20&amp;summary=As%20a%20Programmer%20Analyst%20Intern%20at%20Amazon%2C%20you%20will%20work%20on%20large%20scale%20and%20highly%20available%20applications%20or%20tools.%20You%20will%20work%20with%20business%20and%20operations%20teams%20directly%20to%20enable%20new%20programs%20and%20expansion%20through%20your%20unique%20technology...\"></a><a class=\"cxt-icon-twitter button\" target=\"_blank\" id=\"twitter-link-job-detail\" aria-label=\"Share with twitter\" href=\"https://twitter.com/intent/tweet?text=https%3A%2F%2Fwww.amazon.jobs%2Fen%2Fjobs%2F1665231\"></a><a class=\"cxt-icon-envelope button\" id=\"email-link-job-detail\" aria-label=\"Share with email\" href=\"mailto:?body=https%3A%2F%2Fwww.amazon.jobs%2Fen%2Fjobs%2F1665231&amp;subject=Take%20a%20look%20at%20this%20job\"></a><a class=\"cxt-icon-print button\" onClick=\"window.print(); return false;\" id=\"print-job-detail\" aria-label=\"Print this job\" href=\"#\"></a></div></div></div><script>$(\\'#facebook-link-job-detail\\').click(function(){\\n  CXT.ANALYTICS.captureEvent({category: \\'Social Media\\', action: \\'Click\\', label: \\'facebook link on job detail page\\',\\n    directCallIdentifier: \\'jobShare\\', eventDetails: {socialMedia: \\'facebook\\'}});\\n});\\n$(\\'#linkedin-link-job-detail\\').click(function(){\\n  CXT.ANALYTICS.captureEvent({category: \\'Social Media\\', action: \\'Click\\', label: \\'linkedin link on job detail page\\',\\n    directCallIdentifier: \\'jobShare\\', eventDetails: {socialMedia: \\'linkedin\\'}});\\n});\\n$(\\'#twitter-link-job-detail\\').click(function(){\\n  CXT.ANALYTICS.captureEvent({category: \\'Social Media\\', action: \\'Click\\', label: \\'twitter link on job detail page\\',\\n    directCallIdentifier: \\'jobShare\\', eventDetails: {socialMedia: \\'twitter\\'}});\\n});\\n$(\\'#email-link-job-detail\\').click(function(){\\n  CXT.ANALYTICS.captureEvent({category: \\'Social Media\\', action: \\'Click\\', label: \\'email link on job detail page\\',\\n    directCallIdentifier: \\'jobShare\\', eventDetails: {socialMedia: \\'email\\'}});\\n});\\n$(\\'#print-job-detail\\').click(function(){\\n  CXT.ANALYTICS.captureEvent({category: \\'Social Media\\', action: \\'Click\\', label: \\'print  link on job detail page\\',\\n    directCallIdentifier: \\'jobShare\\', eventDetails: {socialMedia: \\'print\\'}});\\n});</script></div><div class=\"row\"><div data-react-class=\"RelatedJobs\" data-react-props=\"{&quot;action&quot;:&quot;/en/search&quot;,&quot;excludeQuery&quot;:{&quot;job_id_icims&quot;:[1665231]},&quot;filters&quot;:[{&quot;identifier&quot;:&quot;hyderabad-india&quot;,&quot;title&quot;:&quot;Hyderabad, India&quot;,&quot;type&quot;:&quot;location&quot;},{&quot;identifier&quot;:&quot;PE Hubs - India&quot;,&quot;title&quot;:&quot;India, India&quot;,&quot;type&quot;:&quot;location&quot;},{&quot;identifier&quot;:&quot;software-development&quot;,&quot;title&quot;:&quot;Software Development&quot;,&quot;type&quot;:&quot;category&quot;,&quot;label&quot;:&quot;Software Development&quot;}],&quot;resultLimit&quot;:5,&quot;shouldUpdateURL&quot;:false,&quot;currentJob&quot;:{&quot;basic_qualifications&quot;:&quot;· Currently working towards a Bachelor degree or higher in Computer Science, Engineering or equivalent. Majorly focusing on CS Fundamentals – Data Structures, Algo, Problem Solving, and Coding.\\\\u003cbr/\\\\u003e· Experience building software applications through internships, course projects, hackathons or personal projects.\\\\u003cbr/\\\\u003e· Ability to write clean code for basic data structures problems and algorithms in any one programming or scripting language.\\\\u003cbr/\\\\u003e· Proficient in at least one programming language Java (preferred), C++ ,or C# (or) scripting language such as SQL, Perl, Python, XML, or Ruby.\\\\u003cbr/\\\\u003e· Ability to read and interpret complex code, debug and troubleshoot application level issues (or) issues with internal tools with minimal guidance.\\\\u003cbr/\\\\u003e· Ability to recognize and adopt best practices in software engineering: design, testing, version control, documentation, build, deployment, and operations.\\\\u003cbr/\\\\u003e&quot;,&quot;building&quot;:&quot;HYD16-Corp Office (Hyderabad)&quot;,&quot;city&quot;:&quot;Hyderabad&quot;,&quot;company_name&quot;:&quot;ADCI HYD 16 SEZ&quot;,&quot;country_code&quot;:&quot;IN&quot;,&quot;country_name&quot;:&quot;India&quot;,&quot;date_posted&quot;:null,&quot;department&quot;:&quot;Student Programs&quot;,&quot;description&quot;:&quot;As a Programmer Analyst Intern at Amazon, you will work on large scale and highly available applications or tools. You will work with business and operations teams directly to enable new programs and expansion through your unique technology solutions and software programming skills. You will develop, perform service level integrations, support architectural migrations, troubleshoot, evaluate, and modify internal tools and service level applications. Alongside, you will identify bottlenecks in the current processes and automate manual configuration tasks. Each Programmer Analyst Intern will have an assigned technical mentor to help with onboarding, as well as 1:1 guidance from their manager, and will work closely with other engineers.\\\\u003cbr/\\\\u003e\\\\u003cbr/\\\\u003eAs a Programmer Analyst Intern, you will:\\\\u003cbr/\\\\u003e· Work with your manager and team to create milestones and deliverables.\\\\u003cbr/\\\\u003e· Participate in daily scrums and reviews with development teams.\\\\u003cbr/\\\\u003e· Support in platform migrations and configuration, modify internal tools or service level applications and debug or troubleshoot system problems.\\\\u003cbr/\\\\u003e· Write code and unit tests and integrate code with other software components.\\\\u003cbr/\\\\u003e· Act as a liaison between business and technical stakeholders in order to elicit, analyse, communicate, and validate requirements for changes to software applications or tools to optimally support changing business processes and policies.\\\\u003cbr/\\\\u003e· Utilize Amazon engineering tools, processes and technologies including AWS S3, DynamoDB, EC2 etc.\\\\u003cbr/\\\\u003e\\\\u003cbr/\\\\u003eJob Location: Hyderabad, TS and Bangalore, KA\\\\u003cbr/\\\\u003e\\\\u003cbr/\\\\u003e&quot;,&quot;description_internal&quot;:null,&quot;description_short&quot;:&quot;As a Programmer Analyst Intern at Amazon, you will work on large scale and highly available applications or tools. You will work with business and operations teams directly to enable new programs and expansion&quot;,&quot;expiration_date&quot;:null,&quot;fungible&quot;:&quot;NON_FUNGIBLE&quot;,&quot;hiring_manager&quot;:&quot;sumany&quot;,&quot;id&quot;:1665231,&quot;job_code&quot;:&quot;T03182&quot;,&quot;job_state&quot;:&quot;OPEN&quot;,&quot;job_statuses&quot;:[],&quot;level&quot;:4,&quot;location&quot;:&quot;IN, TS, Hyderabad&quot;,&quot;preferred_qualifications&quot;:&quot;· Exposure to any of the following concepts: Web Services and other Web Technologies, schedulers, workflows, state machines, multi-threading and networking protocols.\\\\u003cbr/\\\\u003e· Exposure to AWS technologies such as AWS S3, DynamoDB etc.\\\\u003cbr/\\\\u003e· Ability to come up with simple solutions without over-engineering.\\\\u003cbr/\\\\u003e· Ability to take initiative and produce results.\\\\u003cbr/\\\\u003e· Effective verbal and written communication skills.\\\\u003cbr/\\\\u003e&quot;,&quot;recruitment_team&quot;:&quot;NO_TEAM&quot;,&quot;relocation_types&quot;:[],&quot;state&quot;:&quot;TS&quot;,&quot;team&quot;:{&quot;jobs_cms_id&quot;:&quot;team-internships-for-students&quot;},&quot;title&quot;:&quot;Programmer Analyst &quot;,&quot;title_internal&quot;:null,&quot;user_access&quot;:&quot;INTERNAL_AND_EXTERNAL&quot;},&quot;centralizedHiringUrl&quot;:null,&quot;centralizedHiringLocationsCount&quot;:null}\"></div></div></div></div></div></div></div></div><div class=\"footer\"><div class=\"media-icons\"><div class=\"media-group container\"><div class=\"row\"><div class=\"section\"><p class=\"link-title\">JOIN US ON</p></div><div class=\"icons\"><a id=\"facebook-link-footer\" class=\"cxt-icon-facebook icon cxt-icon-common\" target=\"_blank\" aria-label=\"Join us on facebook\" href=\"https://www.facebook.com/InsideAmazon/?Amazon.jobs=footer\"></a><a id=\"linkedin-link-footer\" class=\"cxt-icon-linkedin icon cxt-icon-common\" target=\"_blank\" aria-label=\"Join us on linkedin\" href=\"https://www.linkedin.com/company/amazon?Amazon.jobs=footer\"></a><a id=\"instagram-link-footer\" class=\"cxt-icon-instagram icon cxt-icon-common\" target=\"_blank\" aria-label=\"Join us on instagram\" href=\"https://www.instagram.com/insideamazon/?Amazon.jobs=footer\"></a><a id=\"twitter-link-footer\" class=\"cxt-icon-twitter icon cxt-icon-common\" target=\"_blank\" aria-label=\"Join us on twitter\" href=\"https://twitter.com/amazonnews?Amazon.jobs=footer\"></a></div><script>$(\\'#facebook-link-footer\\').click(function(){\\n  CXT.ANALYTICS.captureEvent({category: \\'Social Media\\', action: \\'Click\\', label: \\'facebook link on footer\\', directCallIdentifier: \\'socialShare\\', eventDetails: {socialPlatform: \\'facebook\\'}});\\n});\\n$(\\'#linkedin-link-footer\\').click(function(){\\n  CXT.ANALYTICS.captureEvent({category: \\'Social Media\\', action: \\'Click\\', label: \\'linkedin link on footer\\', directCallIdentifier: \\'socialShare\\', eventDetails: {socialPlatform: \\'linkedin\\'}});\\n});\\n$(\\'#instagram-link-footer\\').click(function(){\\n  CXT.ANALYTICS.captureEvent({category: \\'Social Media\\', action: \\'Click\\', label: \\'instagram link on footer\\', directCallIdentifier: \\'socialShare\\', eventDetails: {socialPlatform: \\'instagram\\'}});\\n});\\n$(\\'#twitter-link-footer\\').click(function(){\\n  CXT.ANALYTICS.captureEvent({category: \\'Social Media\\', action: \\'Click\\', label: \\'twitter link on footer\\', directCallIdentifier: \\'socialShare\\', eventDetails: {socialPlatform: \\'twitter\\'}});\\n});</script></div><div class=\"media-group-border\"></div></div></div><div class=\"footer-links\"><div class=\"container\"><div class=\"row\"><div class=\"col-12 col-sm-6 col-md-3 section\"><p class=\"small-caps link-title\">Find Careers</p><ul class=\"links\"><li class=\"link\"><a href=\"/en/job_categories\">Job Categories</a></li><li class=\"link\"><a href=\"/en/business_categories\">Teams</a></li><li class=\"link\"><a href=\"/en/locations\">Locations</a></li><li class=\"link\"><a href=\"/en/military\">US and EU Military recruiting</a></li><li class=\"link\"><a href=\"/en/business_categories/fulfillment-operations\">Fulfillment center jobs</a></li></ul></div><div class=\"col-12 col-sm-6 col-md-3 section\"><p class=\"small-caps link-title\">Working At Amazon</p><ul class=\"links\"><li class=\"link\"><a href=\"/en/landing_pages/working-at-amazon\">Culture</a></li><li class=\"link\"><a id=\"benefits\" href=\"/en/benefits\">Benefits</a></li><li class=\"link\"><a href=\"https://blog.aboutamazon.com\">Amazon Blog</a></li><li class=\"link\"><a href=\"/en/diversity\">Diversity at Amazon</a></li><li class=\"link\"><a href=\"/en/principles\">Our leadership principles</a></li></ul></div><div class=\"col-12 col-sm-6 col-md-3 section\"><p class=\"small-caps link-title\">Help</p><ul class=\"links\"><li class=\"link\"><a data-action=\"FAQ\" href=\"/en/faqs\">FAQ</a></li><li class=\"link\"><a href=\"/en/landing_pages/interviewing-at-amazon#onlineapp\">Interview tips</a></li><li class=\"link\"><a class=\"check-status\" href=\"https://account.amazon.jobs/check_application_status\">Review application status</a></li><li class=\"link\"><a href=\"/en/disability/us\">Disability accommodations</a></li><li class=\"link\"><a href=\"/en/eu_background_checks\">EU background checks</a></li></ul></div><div class=\"col-6 col-md-3 section link mt-3\"><div data-react-class=\"FooterLocaleDropdown\" data-react-props=\"{&quot;locale&quot;:&quot;en&quot;,&quot;available_locales&quot;:[&quot;cs&quot;,&quot;de&quot;,&quot;en&quot;,&quot;en-gb&quot;,&quot;es&quot;,&quot;fr&quot;,&quot;it&quot;,&quot;jp&quot;,&quot;pl&quot;,&quot;pt&quot;,&quot;zh&quot;],&quot;default_locale&quot;:&quot;en&quot;,&quot;relative_url&quot;:&quot;&quot;}\"></div></div></div></div></div><div class=\"footer-nav\"><div class=\"container\"><div class=\"row\"><div class=\"col-md-6 col-sm-12 element opportunity d-flex align-items-center\">Amazon is committed to a diverse and inclusive workplace. Amazon is an equal opportunity employer and does not discriminate on the basis of race, national origin, gender, gender identity, sexual orientation, protected veteran status, disability, age, or other legally protected status.</div><div class=\"col-md-3 col-sm-4 col-12 element mid d-flex justify-content-md-center align-items-center\"><a href=\"/en/privacy_page\">Privacy and Data</a><a href=\"/en/impressum\">Impressum</a></div><div class=\"col-md-3 col-sm-8 col-12 element right text-right d-flex align-items-center\">© 1996-2022, Amazon.com, Inc. or its affiliates</div></div></div></div></div><div class=\"screen-block\"></div></div><script src=\"//static.amazon.jobs/assets/bundles/jobs/show-e2baa206b3e2fca1190dbdc95ab97d43d18a1cb899268f4519b5a27b7cfdfc71.js\"></script><script>// TODO - Finish analytics refactor and remove unused static page data object\\nvar ANALYTICS_DATA = {\\n  businessCategory: \"studentprograms\",\\n  contentType: \"Job Details Page\",\\n  internalOrExternal: \"guest\",\\n  jobCategory: \"Software Development\",\\n  jobCountryCode: \"IND\",\\n  jobId: \"1665231\",\\n  jobTitle: \"Programmer Analyst \",\\n  jobTeam: \"\",\\n  locale: \"en\",\\n  stage: \"production\"\\n};\\n\\nvar digitalData = {\\n  // TODO - convert everything to use the event.details pattern instead and remove this\\n  // Used by events with context-specific information\\n  eventData: {},\\n\\n  // Used by the /jobs resource pages\\n  job: {\\n    category: \"Software Development\",\\n    countryCode: \"IND\",\\n    division: \"studentprograms\",\\n    id: \"1665231\",\\n    jobFindingMethod: document.referrer.split(\\'?\\')[0] || \\' \\',\\n    title: \"Programmer Analyst \",\\n    relatedJobId: []\\n  },\\n\\n  page: {\\n    // Used by all pages\\n    pageInfo: {\\n      countryLanguage: \"en\",\\n      pageName: \"Amazon.jobs | Job Details Page\",\\n      pageType: \"\", // pageType is only populated to track the 404 error page\\n      siteSection: \"amazon jobs\",\\n      tabName: \"\",\\n      userID: \"\",\\n      userActionStoreId: \"a55ae1cd7b2280374fa8a8a77d8650a8\",\\n      peopleSoftId: \"\",\\n      userType: \"guest\",\\n      userAuthMode: \"\"\\n    }\\n  }\\n};</script></body></html>'"
            ]
          },
          "metadata": {},
          "execution_count": 8
        }
      ]
    },
    {
      "cell_type": "code",
      "source": [
        "soup = BeautifulSoup(html, 'html.parser')\n"
      ],
      "metadata": {
        "id": "PA49YChAcWvN"
      },
      "execution_count": 10,
      "outputs": []
    },
    {
      "cell_type": "code",
      "source": [
        "content = soup.find('div', class_='col-12 col-md-7 col-lg-8 col-xl-9')"
      ],
      "metadata": {
        "id": "v1fqe3nmcleQ"
      },
      "execution_count": 28,
      "outputs": []
    },
    {
      "cell_type": "code",
      "source": [
        "body_string = ''"
      ],
      "metadata": {
        "id": "L5jm1a3ghm8q"
      },
      "execution_count": 29,
      "outputs": []
    },
    {
      "cell_type": "code",
      "source": [
        "for x in iter(content.stripped_strings):\n",
        "    body_string = body_string + x.lower()"
      ],
      "metadata": {
        "id": "Uei5v5a1hZ6J"
      },
      "execution_count": 30,
      "outputs": []
    },
    {
      "cell_type": "code",
      "source": [
        "!python -m spacy download en_core_web_lg"
      ],
      "metadata": {
        "colab": {
          "base_uri": "https://localhost:8080/"
        },
        "id": "d5JjiPeQiM6v",
        "outputId": "ea3cdb95-d7dd-4c03-94cc-3b8921a68b5f"
      },
      "execution_count": 16,
      "outputs": [
        {
          "output_type": "stream",
          "name": "stdout",
          "text": [
            "Collecting en-core-web-lg==3.2.0\n",
            "  Downloading https://github.com/explosion/spacy-models/releases/download/en_core_web_lg-3.2.0/en_core_web_lg-3.2.0-py3-none-any.whl (777.4 MB)\n",
            "\u001b[2K     \u001b[90m━━━━━━━━━━━━━━━━━━━━━━━━━━━━━━━━━━━━━━━\u001b[0m \u001b[32m777.4/777.4 MB\u001b[0m \u001b[31m1.3 MB/s\u001b[0m eta \u001b[36m0:00:00\u001b[0m\n",
            "\u001b[?25hRequirement already satisfied: spacy<3.3.0,>=3.2.0 in /usr/local/lib/python3.7/dist-packages (from en-core-web-lg==3.2.0) (3.2.1)\n",
            "Requirement already satisfied: packaging>=20.0 in /usr/local/lib/python3.7/dist-packages (from spacy<3.3.0,>=3.2.0->en-core-web-lg==3.2.0) (21.3)\n",
            "Requirement already satisfied: thinc<8.1.0,>=8.0.12 in /usr/local/lib/python3.7/dist-packages (from spacy<3.3.0,>=3.2.0->en-core-web-lg==3.2.0) (8.0.13)\n",
            "Requirement already satisfied: tqdm<5.0.0,>=4.38.0 in /usr/local/lib/python3.7/dist-packages (from spacy<3.3.0,>=3.2.0->en-core-web-lg==3.2.0) (4.62.3)\n",
            "Requirement already satisfied: cymem<2.1.0,>=2.0.2 in /usr/local/lib/python3.7/dist-packages (from spacy<3.3.0,>=3.2.0->en-core-web-lg==3.2.0) (2.0.6)\n",
            "Requirement already satisfied: requests<3.0.0,>=2.13.0 in /usr/local/lib/python3.7/dist-packages (from spacy<3.3.0,>=3.2.0->en-core-web-lg==3.2.0) (2.23.0)\n",
            "Requirement already satisfied: jinja2 in /usr/local/lib/python3.7/dist-packages (from spacy<3.3.0,>=3.2.0->en-core-web-lg==3.2.0) (2.11.3)\n",
            "Requirement already satisfied: setuptools in /usr/local/lib/python3.7/dist-packages (from spacy<3.3.0,>=3.2.0->en-core-web-lg==3.2.0) (60.6.0)\n",
            "Requirement already satisfied: numpy>=1.15.0 in /usr/local/lib/python3.7/dist-packages (from spacy<3.3.0,>=3.2.0->en-core-web-lg==3.2.0) (1.19.5)\n",
            "Requirement already satisfied: spacy-loggers<2.0.0,>=1.0.0 in /usr/local/lib/python3.7/dist-packages (from spacy<3.3.0,>=3.2.0->en-core-web-lg==3.2.0) (1.0.1)\n",
            "Requirement already satisfied: pydantic!=1.8,!=1.8.1,<1.9.0,>=1.7.4 in /usr/local/lib/python3.7/dist-packages (from spacy<3.3.0,>=3.2.0->en-core-web-lg==3.2.0) (1.8.2)\n",
            "Requirement already satisfied: spacy-legacy<3.1.0,>=3.0.8 in /usr/local/lib/python3.7/dist-packages (from spacy<3.3.0,>=3.2.0->en-core-web-lg==3.2.0) (3.0.8)\n",
            "Requirement already satisfied: typer<0.5.0,>=0.3.0 in /usr/local/lib/python3.7/dist-packages (from spacy<3.3.0,>=3.2.0->en-core-web-lg==3.2.0) (0.4.0)\n",
            "Requirement already satisfied: srsly<3.0.0,>=2.4.1 in /usr/local/lib/python3.7/dist-packages (from spacy<3.3.0,>=3.2.0->en-core-web-lg==3.2.0) (2.4.2)\n",
            "Requirement already satisfied: catalogue<2.1.0,>=2.0.6 in /usr/local/lib/python3.7/dist-packages (from spacy<3.3.0,>=3.2.0->en-core-web-lg==3.2.0) (2.0.6)\n",
            "Requirement already satisfied: wasabi<1.1.0,>=0.8.1 in /usr/local/lib/python3.7/dist-packages (from spacy<3.3.0,>=3.2.0->en-core-web-lg==3.2.0) (0.9.0)\n",
            "Requirement already satisfied: langcodes<4.0.0,>=3.2.0 in /usr/local/lib/python3.7/dist-packages (from spacy<3.3.0,>=3.2.0->en-core-web-lg==3.2.0) (3.3.0)\n",
            "Requirement already satisfied: blis<0.8.0,>=0.4.0 in /usr/local/lib/python3.7/dist-packages (from spacy<3.3.0,>=3.2.0->en-core-web-lg==3.2.0) (0.4.1)\n",
            "Requirement already satisfied: pathy>=0.3.5 in /usr/local/lib/python3.7/dist-packages (from spacy<3.3.0,>=3.2.0->en-core-web-lg==3.2.0) (0.6.1)\n",
            "Requirement already satisfied: murmurhash<1.1.0,>=0.28.0 in /usr/local/lib/python3.7/dist-packages (from spacy<3.3.0,>=3.2.0->en-core-web-lg==3.2.0) (1.0.6)\n",
            "Requirement already satisfied: preshed<3.1.0,>=3.0.2 in /usr/local/lib/python3.7/dist-packages (from spacy<3.3.0,>=3.2.0->en-core-web-lg==3.2.0) (3.0.6)\n",
            "Requirement already satisfied: typing-extensions<4.0.0.0,>=3.7.4 in /usr/local/lib/python3.7/dist-packages (from spacy<3.3.0,>=3.2.0->en-core-web-lg==3.2.0) (3.10.0.2)\n",
            "Requirement already satisfied: zipp>=0.5 in /usr/local/lib/python3.7/dist-packages (from catalogue<2.1.0,>=2.0.6->spacy<3.3.0,>=3.2.0->en-core-web-lg==3.2.0) (3.7.0)\n",
            "Requirement already satisfied: pyparsing!=3.0.5,>=2.0.2 in /usr/local/lib/python3.7/dist-packages (from packaging>=20.0->spacy<3.3.0,>=3.2.0->en-core-web-lg==3.2.0) (3.0.7)\n",
            "Requirement already satisfied: smart-open<6.0.0,>=5.0.0 in /usr/local/lib/python3.7/dist-packages (from pathy>=0.3.5->spacy<3.3.0,>=3.2.0->en-core-web-lg==3.2.0) (5.2.1)\n",
            "Requirement already satisfied: idna<3,>=2.5 in /usr/local/lib/python3.7/dist-packages (from requests<3.0.0,>=2.13.0->spacy<3.3.0,>=3.2.0->en-core-web-lg==3.2.0) (2.10)\n",
            "Requirement already satisfied: urllib3!=1.25.0,!=1.25.1,<1.26,>=1.21.1 in /usr/local/lib/python3.7/dist-packages (from requests<3.0.0,>=2.13.0->spacy<3.3.0,>=3.2.0->en-core-web-lg==3.2.0) (1.24.3)\n",
            "Requirement already satisfied: certifi>=2017.4.17 in /usr/local/lib/python3.7/dist-packages (from requests<3.0.0,>=2.13.0->spacy<3.3.0,>=3.2.0->en-core-web-lg==3.2.0) (2021.10.8)\n",
            "Requirement already satisfied: chardet<4,>=3.0.2 in /usr/local/lib/python3.7/dist-packages (from requests<3.0.0,>=2.13.0->spacy<3.3.0,>=3.2.0->en-core-web-lg==3.2.0) (3.0.4)\n",
            "Requirement already satisfied: click<9.0.0,>=7.1.1 in /usr/local/lib/python3.7/dist-packages (from typer<0.5.0,>=0.3.0->spacy<3.3.0,>=3.2.0->en-core-web-lg==3.2.0) (7.1.2)\n",
            "Requirement already satisfied: MarkupSafe>=0.23 in /usr/local/lib/python3.7/dist-packages (from jinja2->spacy<3.3.0,>=3.2.0->en-core-web-lg==3.2.0) (2.0.1)\n",
            "Installing collected packages: en-core-web-lg\n",
            "Successfully installed en-core-web-lg-3.2.0\n",
            "\u001b[33mWARNING: Running pip as the 'root' user can result in broken permissions and conflicting behaviour with the system package manager. It is recommended to use a virtual environment instead: https://pip.pypa.io/warnings/venv\u001b[0m\u001b[33m\n",
            "\u001b[0m\u001b[38;5;2m✔ Download and installation successful\u001b[0m\n",
            "You can now load the package via spacy.load('en_core_web_lg')\n"
          ]
        }
      ]
    },
    {
      "cell_type": "code",
      "source": [
        "nlp = spacy.load('en_core_web_lg')"
      ],
      "metadata": {
        "id": "ZPJQncGHhkig"
      },
      "execution_count": 31,
      "outputs": []
    },
    {
      "cell_type": "code",
      "source": [
        "doc = nlp(body_string)"
      ],
      "metadata": {
        "id": "ktv1DlSWh1eh"
      },
      "execution_count": 32,
      "outputs": []
    },
    {
      "cell_type": "code",
      "source": [
        "nouns = [token.lemma_ for token in doc if token.pos_ == \"NOUN\"]"
      ],
      "metadata": {
        "id": "aUqLdOMqivm0"
      },
      "execution_count": 33,
      "outputs": []
    },
    {
      "cell_type": "code",
      "source": [
        "noun_freq = Counter(nouns)"
      ],
      "metadata": {
        "id": "PdSHK-cyi0pd"
      },
      "execution_count": 34,
      "outputs": []
    },
    {
      "cell_type": "code",
      "source": [
        "common_nouns = noun_freq.most_common(15)"
      ],
      "metadata": {
        "id": "JzRQpCIIi4cl"
      },
      "execution_count": 38,
      "outputs": []
    },
    {
      "cell_type": "code",
      "source": [
        "common_nouns"
      ],
      "metadata": {
        "colab": {
          "base_uri": "https://localhost:8080/"
        },
        "id": "e1RSwZQvi7ny",
        "outputId": "9fa8834c-979a-4af7-d310-5d28335e5af4"
      },
      "execution_count": 39,
      "outputs": [
        {
          "output_type": "execute_result",
          "data": {
            "text/plain": [
              "[('application', 6),\n",
              " ('tool', 6),\n",
              " ('software', 5),\n",
              " ('ability', 5),\n",
              " ('technology', 4),\n",
              " ('service', 4),\n",
              " ('level', 4),\n",
              " ('code', 4),\n",
              " ('engineering', 4),\n",
              " ('programmer', 3),\n",
              " ('analyst', 3),\n",
              " ('intern', 3),\n",
              " ('business', 3),\n",
              " ('team', 3),\n",
              " ('programming', 3)]"
            ]
          },
          "metadata": {},
          "execution_count": 39
        }
      ]
    },
    {
      "cell_type": "code",
      "source": [
        "noun_list, noun_occurance = zip(*common_nouns)\n",
        "plt.figure(0)  # Specify differnt figures\n",
        "plt.barh(noun_list, noun_occurance)\n",
        "plt.ylabel('Word')"
      ],
      "metadata": {
        "colab": {
          "base_uri": "https://localhost:8080/",
          "height": 282
        },
        "id": "vr7X1J9WjMsk",
        "outputId": "fadbd386-731d-4786-e5f2-9cb86ebf99b8"
      },
      "execution_count": 40,
      "outputs": [
        {
          "output_type": "execute_result",
          "data": {
            "text/plain": [
              "Text(0, 0.5, 'Word')"
            ]
          },
          "metadata": {},
          "execution_count": 40
        },
        {
          "output_type": "display_data",
          "data": {
            "image/png": "[encoded data removed]",
            "text/plain": [
              "<Figure size 432x288 with 1 Axes>"
            ]
          },
          "metadata": {
            "needs_background": "light"
          }
        }
      ]
    },
    {
      "cell_type": "code",
      "source": [
        ""
      ],
      "metadata": {
        "id": "iVM3UMHGjYro"
      },
      "execution_count": null,
      "outputs": []
    }
  ]
}